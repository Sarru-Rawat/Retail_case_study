{
 "cells": [
  {
   "cell_type": "code",
   "execution_count": 1,
   "id": "7529d571",
   "metadata": {},
   "outputs": [],
   "source": [
    "import pandas as pd"
   ]
  },
  {
   "cell_type": "code",
   "execution_count": 3,
   "id": "40827f2f",
   "metadata": {},
   "outputs": [],
   "source": [
    "Product=pd.read_csv(\"C:\\\\Users\\\\d\\\\OneDrive\\\\Desktop\\\\Python Study Material\\\\Case studies\\\\case study 1\\\\prod_cat_info.csv\")\n",
    "Transaction=pd.read_csv(\"C:\\\\Users\\\\d\\\\OneDrive\\\\Desktop\\\\Python Study Material\\\\Case studies\\\\case study 1\\\\Transactions.csv\")\n",
    "Customer=pd.read_csv(\"C:\\\\Users\\\\d\\\\OneDrive\\\\Desktop\\\\Python Study Material\\\\Case studies\\\\case study 1\\\\Customer.csv\")"
   ]
  },
  {
   "cell_type": "code",
   "execution_count": 9,
   "id": "cccda065",
   "metadata": {},
   "outputs": [
    {
     "name": "stdout",
     "output_type": "stream",
     "text": [
      "(23, 4)\n",
      "(23053, 10)\n",
      "(5647, 4)\n"
     ]
    }
   ],
   "source": [
    "print(Product.shape)\n",
    "print(Transaction.shape)\n",
    "print(Customer.shape)"
   ]
  },
  {
   "cell_type": "code",
   "execution_count": 12,
   "id": "67149dc5",
   "metadata": {},
   "outputs": [],
   "source": [
    "T_C_combine=Transaction.merge(Customer,left_on='cust_id',right_on='customer_Id',how='left')"
   ]
  },
  {
   "cell_type": "code",
   "execution_count": 16,
   "id": "cbdb7ad6",
   "metadata": {},
   "outputs": [],
   "source": [
    "Customer_final=T_C_combine.merge(Product,left_on=['prod_cat_code','prod_subcat_code'],right_on=['prod_cat_code','prod_sub_cat_code'],how='left')"
   ]
  },
  {
   "cell_type": "code",
   "execution_count": 19,
   "id": "e5f97b37",
   "metadata": {},
   "outputs": [
    {
     "data": {
      "text/plain": [
       "(23053, 17)"
      ]
     },
     "execution_count": 19,
     "metadata": {},
     "output_type": "execute_result"
    }
   ],
   "source": [
    "Customer_final.shape"
   ]
  },
  {
   "cell_type": "code",
   "execution_count": 20,
   "id": "992e9bdf",
   "metadata": {},
   "outputs": [
    {
     "data": {
      "text/html": [
       "<div>\n",
       "<style scoped>\n",
       "    .dataframe tbody tr th:only-of-type {\n",
       "        vertical-align: middle;\n",
       "    }\n",
       "\n",
       "    .dataframe tbody tr th {\n",
       "        vertical-align: top;\n",
       "    }\n",
       "\n",
       "    .dataframe thead th {\n",
       "        text-align: right;\n",
       "    }\n",
       "</style>\n",
       "<table border=\"1\" class=\"dataframe\">\n",
       "  <thead>\n",
       "    <tr style=\"text-align: right;\">\n",
       "      <th></th>\n",
       "      <th>transaction_id</th>\n",
       "      <th>cust_id</th>\n",
       "      <th>tran_date</th>\n",
       "      <th>prod_subcat_code</th>\n",
       "      <th>prod_cat_code</th>\n",
       "      <th>Qty</th>\n",
       "      <th>Rate</th>\n",
       "      <th>Tax</th>\n",
       "      <th>total_amt</th>\n",
       "      <th>Store_type</th>\n",
       "      <th>customer_Id</th>\n",
       "      <th>DOB</th>\n",
       "      <th>Gender</th>\n",
       "      <th>city_code</th>\n",
       "      <th>prod_cat</th>\n",
       "      <th>prod_sub_cat_code</th>\n",
       "      <th>prod_subcat</th>\n",
       "    </tr>\n",
       "  </thead>\n",
       "  <tbody>\n",
       "    <tr>\n",
       "      <th>0</th>\n",
       "      <td>80712190438</td>\n",
       "      <td>270351</td>\n",
       "      <td>28-02-2014</td>\n",
       "      <td>1</td>\n",
       "      <td>1</td>\n",
       "      <td>-5</td>\n",
       "      <td>-772</td>\n",
       "      <td>405.300</td>\n",
       "      <td>-4265.300</td>\n",
       "      <td>e-Shop</td>\n",
       "      <td>270351</td>\n",
       "      <td>26-09-1981</td>\n",
       "      <td>M</td>\n",
       "      <td>5.0</td>\n",
       "      <td>Clothing</td>\n",
       "      <td>1</td>\n",
       "      <td>Women</td>\n",
       "    </tr>\n",
       "    <tr>\n",
       "      <th>1</th>\n",
       "      <td>29258453508</td>\n",
       "      <td>270384</td>\n",
       "      <td>27-02-2014</td>\n",
       "      <td>5</td>\n",
       "      <td>3</td>\n",
       "      <td>-5</td>\n",
       "      <td>-1497</td>\n",
       "      <td>785.925</td>\n",
       "      <td>-8270.925</td>\n",
       "      <td>e-Shop</td>\n",
       "      <td>270384</td>\n",
       "      <td>11-05-1973</td>\n",
       "      <td>F</td>\n",
       "      <td>8.0</td>\n",
       "      <td>Electronics</td>\n",
       "      <td>5</td>\n",
       "      <td>Computers</td>\n",
       "    </tr>\n",
       "    <tr>\n",
       "      <th>2</th>\n",
       "      <td>51750724947</td>\n",
       "      <td>273420</td>\n",
       "      <td>24-02-2014</td>\n",
       "      <td>6</td>\n",
       "      <td>5</td>\n",
       "      <td>-2</td>\n",
       "      <td>-791</td>\n",
       "      <td>166.110</td>\n",
       "      <td>-1748.110</td>\n",
       "      <td>TeleShop</td>\n",
       "      <td>273420</td>\n",
       "      <td>27-07-1992</td>\n",
       "      <td>M</td>\n",
       "      <td>8.0</td>\n",
       "      <td>Books</td>\n",
       "      <td>6</td>\n",
       "      <td>DIY</td>\n",
       "    </tr>\n",
       "    <tr>\n",
       "      <th>3</th>\n",
       "      <td>93274880719</td>\n",
       "      <td>271509</td>\n",
       "      <td>24-02-2014</td>\n",
       "      <td>11</td>\n",
       "      <td>6</td>\n",
       "      <td>-3</td>\n",
       "      <td>-1363</td>\n",
       "      <td>429.345</td>\n",
       "      <td>-4518.345</td>\n",
       "      <td>e-Shop</td>\n",
       "      <td>271509</td>\n",
       "      <td>08-06-1981</td>\n",
       "      <td>M</td>\n",
       "      <td>3.0</td>\n",
       "      <td>Home and kitchen</td>\n",
       "      <td>11</td>\n",
       "      <td>Bath</td>\n",
       "    </tr>\n",
       "    <tr>\n",
       "      <th>4</th>\n",
       "      <td>51750724947</td>\n",
       "      <td>273420</td>\n",
       "      <td>23-02-2014</td>\n",
       "      <td>6</td>\n",
       "      <td>5</td>\n",
       "      <td>-2</td>\n",
       "      <td>-791</td>\n",
       "      <td>166.110</td>\n",
       "      <td>-1748.110</td>\n",
       "      <td>TeleShop</td>\n",
       "      <td>273420</td>\n",
       "      <td>27-07-1992</td>\n",
       "      <td>M</td>\n",
       "      <td>8.0</td>\n",
       "      <td>Books</td>\n",
       "      <td>6</td>\n",
       "      <td>DIY</td>\n",
       "    </tr>\n",
       "    <tr>\n",
       "      <th>5</th>\n",
       "      <td>97439039119</td>\n",
       "      <td>272357</td>\n",
       "      <td>23-02-2014</td>\n",
       "      <td>8</td>\n",
       "      <td>3</td>\n",
       "      <td>-2</td>\n",
       "      <td>-824</td>\n",
       "      <td>173.040</td>\n",
       "      <td>-1821.040</td>\n",
       "      <td>TeleShop</td>\n",
       "      <td>272357</td>\n",
       "      <td>09-10-1982</td>\n",
       "      <td>F</td>\n",
       "      <td>6.0</td>\n",
       "      <td>Electronics</td>\n",
       "      <td>8</td>\n",
       "      <td>Personal Appliances</td>\n",
       "    </tr>\n",
       "    <tr>\n",
       "      <th>6</th>\n",
       "      <td>45649838090</td>\n",
       "      <td>273667</td>\n",
       "      <td>22-02-2014</td>\n",
       "      <td>11</td>\n",
       "      <td>6</td>\n",
       "      <td>-1</td>\n",
       "      <td>-1450</td>\n",
       "      <td>152.250</td>\n",
       "      <td>-1602.250</td>\n",
       "      <td>e-Shop</td>\n",
       "      <td>273667</td>\n",
       "      <td>29-05-1981</td>\n",
       "      <td>M</td>\n",
       "      <td>9.0</td>\n",
       "      <td>Home and kitchen</td>\n",
       "      <td>11</td>\n",
       "      <td>Bath</td>\n",
       "    </tr>\n",
       "    <tr>\n",
       "      <th>7</th>\n",
       "      <td>22643667930</td>\n",
       "      <td>271489</td>\n",
       "      <td>22-02-2014</td>\n",
       "      <td>12</td>\n",
       "      <td>6</td>\n",
       "      <td>-1</td>\n",
       "      <td>-1225</td>\n",
       "      <td>128.625</td>\n",
       "      <td>-1353.625</td>\n",
       "      <td>TeleShop</td>\n",
       "      <td>271489</td>\n",
       "      <td>21-04-1971</td>\n",
       "      <td>M</td>\n",
       "      <td>9.0</td>\n",
       "      <td>Home and kitchen</td>\n",
       "      <td>12</td>\n",
       "      <td>Tools</td>\n",
       "    </tr>\n",
       "    <tr>\n",
       "      <th>8</th>\n",
       "      <td>79792372943</td>\n",
       "      <td>275108</td>\n",
       "      <td>22-02-2014</td>\n",
       "      <td>3</td>\n",
       "      <td>1</td>\n",
       "      <td>-3</td>\n",
       "      <td>-908</td>\n",
       "      <td>286.020</td>\n",
       "      <td>-3010.020</td>\n",
       "      <td>MBR</td>\n",
       "      <td>275108</td>\n",
       "      <td>04-11-1971</td>\n",
       "      <td>F</td>\n",
       "      <td>8.0</td>\n",
       "      <td>Clothing</td>\n",
       "      <td>3</td>\n",
       "      <td>Kids</td>\n",
       "    </tr>\n",
       "    <tr>\n",
       "      <th>9</th>\n",
       "      <td>50076728598</td>\n",
       "      <td>269014</td>\n",
       "      <td>21-02-2014</td>\n",
       "      <td>8</td>\n",
       "      <td>3</td>\n",
       "      <td>-4</td>\n",
       "      <td>-581</td>\n",
       "      <td>244.020</td>\n",
       "      <td>-2568.020</td>\n",
       "      <td>e-Shop</td>\n",
       "      <td>269014</td>\n",
       "      <td>27-11-1979</td>\n",
       "      <td>F</td>\n",
       "      <td>3.0</td>\n",
       "      <td>Electronics</td>\n",
       "      <td>8</td>\n",
       "      <td>Personal Appliances</td>\n",
       "    </tr>\n",
       "  </tbody>\n",
       "</table>\n",
       "</div>"
      ],
      "text/plain": [
       "   transaction_id  cust_id   tran_date  prod_subcat_code  prod_cat_code  Qty  \\\n",
       "0     80712190438   270351  28-02-2014                 1              1   -5   \n",
       "1     29258453508   270384  27-02-2014                 5              3   -5   \n",
       "2     51750724947   273420  24-02-2014                 6              5   -2   \n",
       "3     93274880719   271509  24-02-2014                11              6   -3   \n",
       "4     51750724947   273420  23-02-2014                 6              5   -2   \n",
       "5     97439039119   272357  23-02-2014                 8              3   -2   \n",
       "6     45649838090   273667  22-02-2014                11              6   -1   \n",
       "7     22643667930   271489  22-02-2014                12              6   -1   \n",
       "8     79792372943   275108  22-02-2014                 3              1   -3   \n",
       "9     50076728598   269014  21-02-2014                 8              3   -4   \n",
       "\n",
       "   Rate      Tax  total_amt Store_type  customer_Id         DOB Gender  \\\n",
       "0  -772  405.300  -4265.300     e-Shop       270351  26-09-1981      M   \n",
       "1 -1497  785.925  -8270.925     e-Shop       270384  11-05-1973      F   \n",
       "2  -791  166.110  -1748.110   TeleShop       273420  27-07-1992      M   \n",
       "3 -1363  429.345  -4518.345     e-Shop       271509  08-06-1981      M   \n",
       "4  -791  166.110  -1748.110   TeleShop       273420  27-07-1992      M   \n",
       "5  -824  173.040  -1821.040   TeleShop       272357  09-10-1982      F   \n",
       "6 -1450  152.250  -1602.250     e-Shop       273667  29-05-1981      M   \n",
       "7 -1225  128.625  -1353.625   TeleShop       271489  21-04-1971      M   \n",
       "8  -908  286.020  -3010.020        MBR       275108  04-11-1971      F   \n",
       "9  -581  244.020  -2568.020     e-Shop       269014  27-11-1979      F   \n",
       "\n",
       "   city_code          prod_cat  prod_sub_cat_code          prod_subcat  \n",
       "0        5.0          Clothing                  1                Women  \n",
       "1        8.0       Electronics                  5            Computers  \n",
       "2        8.0             Books                  6                  DIY  \n",
       "3        3.0  Home and kitchen                 11                 Bath  \n",
       "4        8.0             Books                  6                  DIY  \n",
       "5        6.0       Electronics                  8  Personal Appliances  \n",
       "6        9.0  Home and kitchen                 11                 Bath  \n",
       "7        9.0  Home and kitchen                 12                Tools  \n",
       "8        8.0          Clothing                  3                 Kids  \n",
       "9        3.0       Electronics                  8  Personal Appliances  "
      ]
     },
     "execution_count": 20,
     "metadata": {},
     "output_type": "execute_result"
    }
   ],
   "source": [
    "Customer_final.head(10)"
   ]
  },
  {
   "cell_type": "code",
   "execution_count": 21,
   "id": "7ae9e186",
   "metadata": {},
   "outputs": [
    {
     "data": {
      "text/plain": [
       "Index(['transaction_id', 'cust_id', 'tran_date', 'prod_subcat_code',\n",
       "       'prod_cat_code', 'Qty', 'Rate', 'Tax', 'total_amt', 'Store_type',\n",
       "       'customer_Id', 'DOB', 'Gender', 'city_code', 'prod_cat',\n",
       "       'prod_sub_cat_code', 'prod_subcat'],\n",
       "      dtype='object')"
      ]
     },
     "execution_count": 21,
     "metadata": {},
     "output_type": "execute_result"
    }
   ],
   "source": [
    "Customer_final.columns"
   ]
  },
  {
   "cell_type": "code",
   "execution_count": 22,
   "id": "d3eb70a3",
   "metadata": {},
   "outputs": [
    {
     "data": {
      "text/plain": [
       "transaction_id         int64\n",
       "cust_id                int64\n",
       "tran_date             object\n",
       "prod_subcat_code       int64\n",
       "prod_cat_code          int64\n",
       "Qty                    int64\n",
       "Rate                   int64\n",
       "Tax                  float64\n",
       "total_amt            float64\n",
       "Store_type            object\n",
       "customer_Id            int64\n",
       "DOB                   object\n",
       "Gender                object\n",
       "city_code            float64\n",
       "prod_cat              object\n",
       "prod_sub_cat_code      int64\n",
       "prod_subcat           object\n",
       "dtype: object"
      ]
     },
     "execution_count": 22,
     "metadata": {},
     "output_type": "execute_result"
    }
   ],
   "source": [
    "Customer_final.dtypes"
   ]
  },
  {
   "cell_type": "code",
   "execution_count": 24,
   "id": "e6591aa6",
   "metadata": {},
   "outputs": [
    {
     "data": {
      "text/html": [
       "<div>\n",
       "<style scoped>\n",
       "    .dataframe tbody tr th:only-of-type {\n",
       "        vertical-align: middle;\n",
       "    }\n",
       "\n",
       "    .dataframe tbody tr th {\n",
       "        vertical-align: top;\n",
       "    }\n",
       "\n",
       "    .dataframe thead th {\n",
       "        text-align: right;\n",
       "    }\n",
       "</style>\n",
       "<table border=\"1\" class=\"dataframe\">\n",
       "  <thead>\n",
       "    <tr style=\"text-align: right;\">\n",
       "      <th></th>\n",
       "      <th>transaction_id</th>\n",
       "      <th>cust_id</th>\n",
       "      <th>tran_date</th>\n",
       "      <th>prod_subcat_code</th>\n",
       "      <th>prod_cat_code</th>\n",
       "      <th>Qty</th>\n",
       "      <th>Rate</th>\n",
       "      <th>Tax</th>\n",
       "      <th>total_amt</th>\n",
       "      <th>Store_type</th>\n",
       "      <th>customer_Id</th>\n",
       "      <th>DOB</th>\n",
       "      <th>Gender</th>\n",
       "      <th>city_code</th>\n",
       "      <th>prod_cat</th>\n",
       "      <th>prod_sub_cat_code</th>\n",
       "      <th>prod_subcat</th>\n",
       "    </tr>\n",
       "  </thead>\n",
       "  <tbody>\n",
       "    <tr>\n",
       "      <th>0</th>\n",
       "      <td>80712190438</td>\n",
       "      <td>270351</td>\n",
       "      <td>28-02-2014</td>\n",
       "      <td>1</td>\n",
       "      <td>1</td>\n",
       "      <td>-5</td>\n",
       "      <td>-772</td>\n",
       "      <td>405.300</td>\n",
       "      <td>-4265.300</td>\n",
       "      <td>e-Shop</td>\n",
       "      <td>270351</td>\n",
       "      <td>26-09-1981</td>\n",
       "      <td>M</td>\n",
       "      <td>5.0</td>\n",
       "      <td>Clothing</td>\n",
       "      <td>1</td>\n",
       "      <td>Women</td>\n",
       "    </tr>\n",
       "    <tr>\n",
       "      <th>1</th>\n",
       "      <td>29258453508</td>\n",
       "      <td>270384</td>\n",
       "      <td>27-02-2014</td>\n",
       "      <td>5</td>\n",
       "      <td>3</td>\n",
       "      <td>-5</td>\n",
       "      <td>-1497</td>\n",
       "      <td>785.925</td>\n",
       "      <td>-8270.925</td>\n",
       "      <td>e-Shop</td>\n",
       "      <td>270384</td>\n",
       "      <td>11-05-1973</td>\n",
       "      <td>F</td>\n",
       "      <td>8.0</td>\n",
       "      <td>Electronics</td>\n",
       "      <td>5</td>\n",
       "      <td>Computers</td>\n",
       "    </tr>\n",
       "    <tr>\n",
       "      <th>2</th>\n",
       "      <td>51750724947</td>\n",
       "      <td>273420</td>\n",
       "      <td>24-02-2014</td>\n",
       "      <td>6</td>\n",
       "      <td>5</td>\n",
       "      <td>-2</td>\n",
       "      <td>-791</td>\n",
       "      <td>166.110</td>\n",
       "      <td>-1748.110</td>\n",
       "      <td>TeleShop</td>\n",
       "      <td>273420</td>\n",
       "      <td>27-07-1992</td>\n",
       "      <td>M</td>\n",
       "      <td>8.0</td>\n",
       "      <td>Books</td>\n",
       "      <td>6</td>\n",
       "      <td>DIY</td>\n",
       "    </tr>\n",
       "    <tr>\n",
       "      <th>3</th>\n",
       "      <td>93274880719</td>\n",
       "      <td>271509</td>\n",
       "      <td>24-02-2014</td>\n",
       "      <td>11</td>\n",
       "      <td>6</td>\n",
       "      <td>-3</td>\n",
       "      <td>-1363</td>\n",
       "      <td>429.345</td>\n",
       "      <td>-4518.345</td>\n",
       "      <td>e-Shop</td>\n",
       "      <td>271509</td>\n",
       "      <td>08-06-1981</td>\n",
       "      <td>M</td>\n",
       "      <td>3.0</td>\n",
       "      <td>Home and kitchen</td>\n",
       "      <td>11</td>\n",
       "      <td>Bath</td>\n",
       "    </tr>\n",
       "    <tr>\n",
       "      <th>4</th>\n",
       "      <td>51750724947</td>\n",
       "      <td>273420</td>\n",
       "      <td>23-02-2014</td>\n",
       "      <td>6</td>\n",
       "      <td>5</td>\n",
       "      <td>-2</td>\n",
       "      <td>-791</td>\n",
       "      <td>166.110</td>\n",
       "      <td>-1748.110</td>\n",
       "      <td>TeleShop</td>\n",
       "      <td>273420</td>\n",
       "      <td>27-07-1992</td>\n",
       "      <td>M</td>\n",
       "      <td>8.0</td>\n",
       "      <td>Books</td>\n",
       "      <td>6</td>\n",
       "      <td>DIY</td>\n",
       "    </tr>\n",
       "    <tr>\n",
       "      <th>5</th>\n",
       "      <td>97439039119</td>\n",
       "      <td>272357</td>\n",
       "      <td>23-02-2014</td>\n",
       "      <td>8</td>\n",
       "      <td>3</td>\n",
       "      <td>-2</td>\n",
       "      <td>-824</td>\n",
       "      <td>173.040</td>\n",
       "      <td>-1821.040</td>\n",
       "      <td>TeleShop</td>\n",
       "      <td>272357</td>\n",
       "      <td>09-10-1982</td>\n",
       "      <td>F</td>\n",
       "      <td>6.0</td>\n",
       "      <td>Electronics</td>\n",
       "      <td>8</td>\n",
       "      <td>Personal Appliances</td>\n",
       "    </tr>\n",
       "    <tr>\n",
       "      <th>6</th>\n",
       "      <td>45649838090</td>\n",
       "      <td>273667</td>\n",
       "      <td>22-02-2014</td>\n",
       "      <td>11</td>\n",
       "      <td>6</td>\n",
       "      <td>-1</td>\n",
       "      <td>-1450</td>\n",
       "      <td>152.250</td>\n",
       "      <td>-1602.250</td>\n",
       "      <td>e-Shop</td>\n",
       "      <td>273667</td>\n",
       "      <td>29-05-1981</td>\n",
       "      <td>M</td>\n",
       "      <td>9.0</td>\n",
       "      <td>Home and kitchen</td>\n",
       "      <td>11</td>\n",
       "      <td>Bath</td>\n",
       "    </tr>\n",
       "    <tr>\n",
       "      <th>7</th>\n",
       "      <td>22643667930</td>\n",
       "      <td>271489</td>\n",
       "      <td>22-02-2014</td>\n",
       "      <td>12</td>\n",
       "      <td>6</td>\n",
       "      <td>-1</td>\n",
       "      <td>-1225</td>\n",
       "      <td>128.625</td>\n",
       "      <td>-1353.625</td>\n",
       "      <td>TeleShop</td>\n",
       "      <td>271489</td>\n",
       "      <td>21-04-1971</td>\n",
       "      <td>M</td>\n",
       "      <td>9.0</td>\n",
       "      <td>Home and kitchen</td>\n",
       "      <td>12</td>\n",
       "      <td>Tools</td>\n",
       "    </tr>\n",
       "    <tr>\n",
       "      <th>8</th>\n",
       "      <td>79792372943</td>\n",
       "      <td>275108</td>\n",
       "      <td>22-02-2014</td>\n",
       "      <td>3</td>\n",
       "      <td>1</td>\n",
       "      <td>-3</td>\n",
       "      <td>-908</td>\n",
       "      <td>286.020</td>\n",
       "      <td>-3010.020</td>\n",
       "      <td>MBR</td>\n",
       "      <td>275108</td>\n",
       "      <td>04-11-1971</td>\n",
       "      <td>F</td>\n",
       "      <td>8.0</td>\n",
       "      <td>Clothing</td>\n",
       "      <td>3</td>\n",
       "      <td>Kids</td>\n",
       "    </tr>\n",
       "    <tr>\n",
       "      <th>9</th>\n",
       "      <td>50076728598</td>\n",
       "      <td>269014</td>\n",
       "      <td>21-02-2014</td>\n",
       "      <td>8</td>\n",
       "      <td>3</td>\n",
       "      <td>-4</td>\n",
       "      <td>-581</td>\n",
       "      <td>244.020</td>\n",
       "      <td>-2568.020</td>\n",
       "      <td>e-Shop</td>\n",
       "      <td>269014</td>\n",
       "      <td>27-11-1979</td>\n",
       "      <td>F</td>\n",
       "      <td>3.0</td>\n",
       "      <td>Electronics</td>\n",
       "      <td>8</td>\n",
       "      <td>Personal Appliances</td>\n",
       "    </tr>\n",
       "  </tbody>\n",
       "</table>\n",
       "</div>"
      ],
      "text/plain": [
       "   transaction_id  cust_id   tran_date  prod_subcat_code  prod_cat_code  Qty  \\\n",
       "0     80712190438   270351  28-02-2014                 1              1   -5   \n",
       "1     29258453508   270384  27-02-2014                 5              3   -5   \n",
       "2     51750724947   273420  24-02-2014                 6              5   -2   \n",
       "3     93274880719   271509  24-02-2014                11              6   -3   \n",
       "4     51750724947   273420  23-02-2014                 6              5   -2   \n",
       "5     97439039119   272357  23-02-2014                 8              3   -2   \n",
       "6     45649838090   273667  22-02-2014                11              6   -1   \n",
       "7     22643667930   271489  22-02-2014                12              6   -1   \n",
       "8     79792372943   275108  22-02-2014                 3              1   -3   \n",
       "9     50076728598   269014  21-02-2014                 8              3   -4   \n",
       "\n",
       "   Rate      Tax  total_amt Store_type  customer_Id         DOB Gender  \\\n",
       "0  -772  405.300  -4265.300     e-Shop       270351  26-09-1981      M   \n",
       "1 -1497  785.925  -8270.925     e-Shop       270384  11-05-1973      F   \n",
       "2  -791  166.110  -1748.110   TeleShop       273420  27-07-1992      M   \n",
       "3 -1363  429.345  -4518.345     e-Shop       271509  08-06-1981      M   \n",
       "4  -791  166.110  -1748.110   TeleShop       273420  27-07-1992      M   \n",
       "5  -824  173.040  -1821.040   TeleShop       272357  09-10-1982      F   \n",
       "6 -1450  152.250  -1602.250     e-Shop       273667  29-05-1981      M   \n",
       "7 -1225  128.625  -1353.625   TeleShop       271489  21-04-1971      M   \n",
       "8  -908  286.020  -3010.020        MBR       275108  04-11-1971      F   \n",
       "9  -581  244.020  -2568.020     e-Shop       269014  27-11-1979      F   \n",
       "\n",
       "   city_code          prod_cat  prod_sub_cat_code          prod_subcat  \n",
       "0        5.0          Clothing                  1                Women  \n",
       "1        8.0       Electronics                  5            Computers  \n",
       "2        8.0             Books                  6                  DIY  \n",
       "3        3.0  Home and kitchen                 11                 Bath  \n",
       "4        8.0             Books                  6                  DIY  \n",
       "5        6.0       Electronics                  8  Personal Appliances  \n",
       "6        9.0  Home and kitchen                 11                 Bath  \n",
       "7        9.0  Home and kitchen                 12                Tools  \n",
       "8        8.0          Clothing                  3                 Kids  \n",
       "9        3.0       Electronics                  8  Personal Appliances  "
      ]
     },
     "execution_count": 24,
     "metadata": {},
     "output_type": "execute_result"
    }
   ],
   "source": [
    "Customer_final.head(10)"
   ]
  },
  {
   "cell_type": "code",
   "execution_count": 25,
   "id": "011b66e8",
   "metadata": {},
   "outputs": [
    {
     "data": {
      "text/html": [
       "<div>\n",
       "<style scoped>\n",
       "    .dataframe tbody tr th:only-of-type {\n",
       "        vertical-align: middle;\n",
       "    }\n",
       "\n",
       "    .dataframe tbody tr th {\n",
       "        vertical-align: top;\n",
       "    }\n",
       "\n",
       "    .dataframe thead th {\n",
       "        text-align: right;\n",
       "    }\n",
       "</style>\n",
       "<table border=\"1\" class=\"dataframe\">\n",
       "  <thead>\n",
       "    <tr style=\"text-align: right;\">\n",
       "      <th></th>\n",
       "      <th>transaction_id</th>\n",
       "      <th>cust_id</th>\n",
       "      <th>tran_date</th>\n",
       "      <th>prod_subcat_code</th>\n",
       "      <th>prod_cat_code</th>\n",
       "      <th>Qty</th>\n",
       "      <th>Rate</th>\n",
       "      <th>Tax</th>\n",
       "      <th>total_amt</th>\n",
       "      <th>Store_type</th>\n",
       "      <th>customer_Id</th>\n",
       "      <th>DOB</th>\n",
       "      <th>Gender</th>\n",
       "      <th>city_code</th>\n",
       "      <th>prod_cat</th>\n",
       "      <th>prod_sub_cat_code</th>\n",
       "      <th>prod_subcat</th>\n",
       "    </tr>\n",
       "  </thead>\n",
       "  <tbody>\n",
       "    <tr>\n",
       "      <th>23043</th>\n",
       "      <td>49882891062</td>\n",
       "      <td>271982</td>\n",
       "      <td>25-01-2011</td>\n",
       "      <td>10</td>\n",
       "      <td>5</td>\n",
       "      <td>4</td>\n",
       "      <td>1330</td>\n",
       "      <td>558.600</td>\n",
       "      <td>5878.600</td>\n",
       "      <td>e-Shop</td>\n",
       "      <td>271982</td>\n",
       "      <td>10-08-1976</td>\n",
       "      <td>M</td>\n",
       "      <td>8.0</td>\n",
       "      <td>Books</td>\n",
       "      <td>10</td>\n",
       "      <td>Non-Fiction</td>\n",
       "    </tr>\n",
       "    <tr>\n",
       "      <th>23044</th>\n",
       "      <td>14787475597</td>\n",
       "      <td>273982</td>\n",
       "      <td>25-01-2011</td>\n",
       "      <td>4</td>\n",
       "      <td>3</td>\n",
       "      <td>5</td>\n",
       "      <td>969</td>\n",
       "      <td>508.725</td>\n",
       "      <td>5353.725</td>\n",
       "      <td>e-Shop</td>\n",
       "      <td>273982</td>\n",
       "      <td>12-10-1991</td>\n",
       "      <td>M</td>\n",
       "      <td>4.0</td>\n",
       "      <td>Electronics</td>\n",
       "      <td>4</td>\n",
       "      <td>Mobiles</td>\n",
       "    </tr>\n",
       "    <tr>\n",
       "      <th>23045</th>\n",
       "      <td>50691119572</td>\n",
       "      <td>273031</td>\n",
       "      <td>25-01-2011</td>\n",
       "      <td>6</td>\n",
       "      <td>5</td>\n",
       "      <td>1</td>\n",
       "      <td>1148</td>\n",
       "      <td>120.540</td>\n",
       "      <td>1268.540</td>\n",
       "      <td>TeleShop</td>\n",
       "      <td>273031</td>\n",
       "      <td>17-01-1980</td>\n",
       "      <td>F</td>\n",
       "      <td>8.0</td>\n",
       "      <td>Books</td>\n",
       "      <td>6</td>\n",
       "      <td>DIY</td>\n",
       "    </tr>\n",
       "    <tr>\n",
       "      <th>23046</th>\n",
       "      <td>40893803228</td>\n",
       "      <td>272049</td>\n",
       "      <td>25-01-2011</td>\n",
       "      <td>11</td>\n",
       "      <td>6</td>\n",
       "      <td>3</td>\n",
       "      <td>1077</td>\n",
       "      <td>339.255</td>\n",
       "      <td>3570.255</td>\n",
       "      <td>e-Shop</td>\n",
       "      <td>272049</td>\n",
       "      <td>28-06-1975</td>\n",
       "      <td>F</td>\n",
       "      <td>6.0</td>\n",
       "      <td>Home and kitchen</td>\n",
       "      <td>11</td>\n",
       "      <td>Bath</td>\n",
       "    </tr>\n",
       "    <tr>\n",
       "      <th>23047</th>\n",
       "      <td>30856003613</td>\n",
       "      <td>266866</td>\n",
       "      <td>25-01-2011</td>\n",
       "      <td>4</td>\n",
       "      <td>2</td>\n",
       "      <td>2</td>\n",
       "      <td>444</td>\n",
       "      <td>93.240</td>\n",
       "      <td>981.240</td>\n",
       "      <td>TeleShop</td>\n",
       "      <td>266866</td>\n",
       "      <td>18-04-1974</td>\n",
       "      <td>M</td>\n",
       "      <td>4.0</td>\n",
       "      <td>Footwear</td>\n",
       "      <td>4</td>\n",
       "      <td>Kids</td>\n",
       "    </tr>\n",
       "    <tr>\n",
       "      <th>23048</th>\n",
       "      <td>94340757522</td>\n",
       "      <td>274550</td>\n",
       "      <td>25-01-2011</td>\n",
       "      <td>12</td>\n",
       "      <td>5</td>\n",
       "      <td>1</td>\n",
       "      <td>1264</td>\n",
       "      <td>132.720</td>\n",
       "      <td>1396.720</td>\n",
       "      <td>e-Shop</td>\n",
       "      <td>274550</td>\n",
       "      <td>21-02-1972</td>\n",
       "      <td>M</td>\n",
       "      <td>7.0</td>\n",
       "      <td>Books</td>\n",
       "      <td>12</td>\n",
       "      <td>Academic</td>\n",
       "    </tr>\n",
       "    <tr>\n",
       "      <th>23049</th>\n",
       "      <td>89780862956</td>\n",
       "      <td>270022</td>\n",
       "      <td>25-01-2011</td>\n",
       "      <td>4</td>\n",
       "      <td>1</td>\n",
       "      <td>1</td>\n",
       "      <td>677</td>\n",
       "      <td>71.085</td>\n",
       "      <td>748.085</td>\n",
       "      <td>e-Shop</td>\n",
       "      <td>270022</td>\n",
       "      <td>27-04-1984</td>\n",
       "      <td>M</td>\n",
       "      <td>9.0</td>\n",
       "      <td>Clothing</td>\n",
       "      <td>4</td>\n",
       "      <td>Mens</td>\n",
       "    </tr>\n",
       "    <tr>\n",
       "      <th>23050</th>\n",
       "      <td>85115299378</td>\n",
       "      <td>271020</td>\n",
       "      <td>25-01-2011</td>\n",
       "      <td>2</td>\n",
       "      <td>6</td>\n",
       "      <td>4</td>\n",
       "      <td>1052</td>\n",
       "      <td>441.840</td>\n",
       "      <td>4649.840</td>\n",
       "      <td>MBR</td>\n",
       "      <td>271020</td>\n",
       "      <td>20-06-1976</td>\n",
       "      <td>M</td>\n",
       "      <td>8.0</td>\n",
       "      <td>Home and kitchen</td>\n",
       "      <td>2</td>\n",
       "      <td>Furnishing</td>\n",
       "    </tr>\n",
       "    <tr>\n",
       "      <th>23051</th>\n",
       "      <td>72870271171</td>\n",
       "      <td>270911</td>\n",
       "      <td>25-01-2011</td>\n",
       "      <td>11</td>\n",
       "      <td>5</td>\n",
       "      <td>3</td>\n",
       "      <td>1142</td>\n",
       "      <td>359.730</td>\n",
       "      <td>3785.730</td>\n",
       "      <td>TeleShop</td>\n",
       "      <td>270911</td>\n",
       "      <td>22-05-1970</td>\n",
       "      <td>M</td>\n",
       "      <td>2.0</td>\n",
       "      <td>Books</td>\n",
       "      <td>11</td>\n",
       "      <td>Children</td>\n",
       "    </tr>\n",
       "    <tr>\n",
       "      <th>23052</th>\n",
       "      <td>77960931771</td>\n",
       "      <td>271961</td>\n",
       "      <td>25-01-2011</td>\n",
       "      <td>11</td>\n",
       "      <td>5</td>\n",
       "      <td>1</td>\n",
       "      <td>447</td>\n",
       "      <td>46.935</td>\n",
       "      <td>493.935</td>\n",
       "      <td>TeleShop</td>\n",
       "      <td>271961</td>\n",
       "      <td>15-01-1982</td>\n",
       "      <td>M</td>\n",
       "      <td>1.0</td>\n",
       "      <td>Books</td>\n",
       "      <td>11</td>\n",
       "      <td>Children</td>\n",
       "    </tr>\n",
       "  </tbody>\n",
       "</table>\n",
       "</div>"
      ],
      "text/plain": [
       "       transaction_id  cust_id   tran_date  prod_subcat_code  prod_cat_code  \\\n",
       "23043     49882891062   271982  25-01-2011                10              5   \n",
       "23044     14787475597   273982  25-01-2011                 4              3   \n",
       "23045     50691119572   273031  25-01-2011                 6              5   \n",
       "23046     40893803228   272049  25-01-2011                11              6   \n",
       "23047     30856003613   266866  25-01-2011                 4              2   \n",
       "23048     94340757522   274550  25-01-2011                12              5   \n",
       "23049     89780862956   270022  25-01-2011                 4              1   \n",
       "23050     85115299378   271020  25-01-2011                 2              6   \n",
       "23051     72870271171   270911  25-01-2011                11              5   \n",
       "23052     77960931771   271961  25-01-2011                11              5   \n",
       "\n",
       "       Qty  Rate      Tax  total_amt Store_type  customer_Id         DOB  \\\n",
       "23043    4  1330  558.600   5878.600     e-Shop       271982  10-08-1976   \n",
       "23044    5   969  508.725   5353.725     e-Shop       273982  12-10-1991   \n",
       "23045    1  1148  120.540   1268.540   TeleShop       273031  17-01-1980   \n",
       "23046    3  1077  339.255   3570.255     e-Shop       272049  28-06-1975   \n",
       "23047    2   444   93.240    981.240   TeleShop       266866  18-04-1974   \n",
       "23048    1  1264  132.720   1396.720     e-Shop       274550  21-02-1972   \n",
       "23049    1   677   71.085    748.085     e-Shop       270022  27-04-1984   \n",
       "23050    4  1052  441.840   4649.840        MBR       271020  20-06-1976   \n",
       "23051    3  1142  359.730   3785.730   TeleShop       270911  22-05-1970   \n",
       "23052    1   447   46.935    493.935   TeleShop       271961  15-01-1982   \n",
       "\n",
       "      Gender  city_code          prod_cat  prod_sub_cat_code  prod_subcat  \n",
       "23043      M        8.0             Books                 10  Non-Fiction  \n",
       "23044      M        4.0       Electronics                  4      Mobiles  \n",
       "23045      F        8.0             Books                  6          DIY  \n",
       "23046      F        6.0  Home and kitchen                 11         Bath  \n",
       "23047      M        4.0          Footwear                  4         Kids  \n",
       "23048      M        7.0             Books                 12     Academic  \n",
       "23049      M        9.0          Clothing                  4         Mens  \n",
       "23050      M        8.0  Home and kitchen                  2   Furnishing  \n",
       "23051      M        2.0             Books                 11     Children  \n",
       "23052      M        1.0             Books                 11     Children  "
      ]
     },
     "execution_count": 25,
     "metadata": {},
     "output_type": "execute_result"
    }
   ],
   "source": [
    "Customer_final.tail(10)"
   ]
  },
  {
   "cell_type": "code",
   "execution_count": 26,
   "id": "c43d0f49",
   "metadata": {},
   "outputs": [
    {
     "data": {
      "text/html": [
       "<div>\n",
       "<style scoped>\n",
       "    .dataframe tbody tr th:only-of-type {\n",
       "        vertical-align: middle;\n",
       "    }\n",
       "\n",
       "    .dataframe tbody tr th {\n",
       "        vertical-align: top;\n",
       "    }\n",
       "\n",
       "    .dataframe thead th {\n",
       "        text-align: right;\n",
       "    }\n",
       "</style>\n",
       "<table border=\"1\" class=\"dataframe\">\n",
       "  <thead>\n",
       "    <tr style=\"text-align: right;\">\n",
       "      <th></th>\n",
       "      <th>transaction_id</th>\n",
       "      <th>cust_id</th>\n",
       "      <th>prod_subcat_code</th>\n",
       "      <th>prod_cat_code</th>\n",
       "      <th>Qty</th>\n",
       "      <th>Rate</th>\n",
       "      <th>Tax</th>\n",
       "      <th>total_amt</th>\n",
       "      <th>customer_Id</th>\n",
       "      <th>city_code</th>\n",
       "      <th>prod_sub_cat_code</th>\n",
       "    </tr>\n",
       "  </thead>\n",
       "  <tbody>\n",
       "    <tr>\n",
       "      <th>count</th>\n",
       "      <td>2.305300e+04</td>\n",
       "      <td>23053.000000</td>\n",
       "      <td>23053.000000</td>\n",
       "      <td>23053.000000</td>\n",
       "      <td>23053.000000</td>\n",
       "      <td>23053.000000</td>\n",
       "      <td>23053.000000</td>\n",
       "      <td>23053.000000</td>\n",
       "      <td>23053.000000</td>\n",
       "      <td>23045.000000</td>\n",
       "      <td>23053.000000</td>\n",
       "    </tr>\n",
       "    <tr>\n",
       "      <th>mean</th>\n",
       "      <td>5.007348e+10</td>\n",
       "      <td>271021.746497</td>\n",
       "      <td>6.149091</td>\n",
       "      <td>3.763632</td>\n",
       "      <td>2.432395</td>\n",
       "      <td>636.369713</td>\n",
       "      <td>248.667192</td>\n",
       "      <td>2107.308002</td>\n",
       "      <td>271021.746497</td>\n",
       "      <td>5.482534</td>\n",
       "      <td>6.149091</td>\n",
       "    </tr>\n",
       "    <tr>\n",
       "      <th>std</th>\n",
       "      <td>2.898194e+10</td>\n",
       "      <td>2431.692059</td>\n",
       "      <td>3.726372</td>\n",
       "      <td>1.677016</td>\n",
       "      <td>2.268406</td>\n",
       "      <td>622.363498</td>\n",
       "      <td>187.177773</td>\n",
       "      <td>2507.561264</td>\n",
       "      <td>2431.692059</td>\n",
       "      <td>2.863499</td>\n",
       "      <td>3.726372</td>\n",
       "    </tr>\n",
       "    <tr>\n",
       "      <th>min</th>\n",
       "      <td>3.268991e+06</td>\n",
       "      <td>266783.000000</td>\n",
       "      <td>1.000000</td>\n",
       "      <td>1.000000</td>\n",
       "      <td>-5.000000</td>\n",
       "      <td>-1499.000000</td>\n",
       "      <td>7.350000</td>\n",
       "      <td>-8270.925000</td>\n",
       "      <td>266783.000000</td>\n",
       "      <td>1.000000</td>\n",
       "      <td>1.000000</td>\n",
       "    </tr>\n",
       "    <tr>\n",
       "      <th>25%</th>\n",
       "      <td>2.493864e+10</td>\n",
       "      <td>268935.000000</td>\n",
       "      <td>3.000000</td>\n",
       "      <td>2.000000</td>\n",
       "      <td>1.000000</td>\n",
       "      <td>312.000000</td>\n",
       "      <td>98.280000</td>\n",
       "      <td>762.450000</td>\n",
       "      <td>268935.000000</td>\n",
       "      <td>3.000000</td>\n",
       "      <td>3.000000</td>\n",
       "    </tr>\n",
       "    <tr>\n",
       "      <th>50%</th>\n",
       "      <td>5.009313e+10</td>\n",
       "      <td>270980.000000</td>\n",
       "      <td>5.000000</td>\n",
       "      <td>4.000000</td>\n",
       "      <td>3.000000</td>\n",
       "      <td>710.000000</td>\n",
       "      <td>199.080000</td>\n",
       "      <td>1754.740000</td>\n",
       "      <td>270980.000000</td>\n",
       "      <td>5.000000</td>\n",
       "      <td>5.000000</td>\n",
       "    </tr>\n",
       "    <tr>\n",
       "      <th>75%</th>\n",
       "      <td>7.533000e+10</td>\n",
       "      <td>273114.000000</td>\n",
       "      <td>10.000000</td>\n",
       "      <td>5.000000</td>\n",
       "      <td>4.000000</td>\n",
       "      <td>1109.000000</td>\n",
       "      <td>365.715000</td>\n",
       "      <td>3569.150000</td>\n",
       "      <td>273114.000000</td>\n",
       "      <td>8.000000</td>\n",
       "      <td>10.000000</td>\n",
       "    </tr>\n",
       "    <tr>\n",
       "      <th>max</th>\n",
       "      <td>9.998755e+10</td>\n",
       "      <td>275265.000000</td>\n",
       "      <td>12.000000</td>\n",
       "      <td>6.000000</td>\n",
       "      <td>5.000000</td>\n",
       "      <td>1500.000000</td>\n",
       "      <td>787.500000</td>\n",
       "      <td>8287.500000</td>\n",
       "      <td>275265.000000</td>\n",
       "      <td>10.000000</td>\n",
       "      <td>12.000000</td>\n",
       "    </tr>\n",
       "  </tbody>\n",
       "</table>\n",
       "</div>"
      ],
      "text/plain": [
       "       transaction_id        cust_id  prod_subcat_code  prod_cat_code  \\\n",
       "count    2.305300e+04   23053.000000      23053.000000   23053.000000   \n",
       "mean     5.007348e+10  271021.746497          6.149091       3.763632   \n",
       "std      2.898194e+10    2431.692059          3.726372       1.677016   \n",
       "min      3.268991e+06  266783.000000          1.000000       1.000000   \n",
       "25%      2.493864e+10  268935.000000          3.000000       2.000000   \n",
       "50%      5.009313e+10  270980.000000          5.000000       4.000000   \n",
       "75%      7.533000e+10  273114.000000         10.000000       5.000000   \n",
       "max      9.998755e+10  275265.000000         12.000000       6.000000   \n",
       "\n",
       "                Qty          Rate           Tax     total_amt    customer_Id  \\\n",
       "count  23053.000000  23053.000000  23053.000000  23053.000000   23053.000000   \n",
       "mean       2.432395    636.369713    248.667192   2107.308002  271021.746497   \n",
       "std        2.268406    622.363498    187.177773   2507.561264    2431.692059   \n",
       "min       -5.000000  -1499.000000      7.350000  -8270.925000  266783.000000   \n",
       "25%        1.000000    312.000000     98.280000    762.450000  268935.000000   \n",
       "50%        3.000000    710.000000    199.080000   1754.740000  270980.000000   \n",
       "75%        4.000000   1109.000000    365.715000   3569.150000  273114.000000   \n",
       "max        5.000000   1500.000000    787.500000   8287.500000  275265.000000   \n",
       "\n",
       "          city_code  prod_sub_cat_code  \n",
       "count  23045.000000       23053.000000  \n",
       "mean       5.482534           6.149091  \n",
       "std        2.863499           3.726372  \n",
       "min        1.000000           1.000000  \n",
       "25%        3.000000           3.000000  \n",
       "50%        5.000000           5.000000  \n",
       "75%        8.000000          10.000000  \n",
       "max       10.000000          12.000000  "
      ]
     },
     "execution_count": 26,
     "metadata": {},
     "output_type": "execute_result"
    }
   ],
   "source": [
    "Customer_final.describe()"
   ]
  },
  {
   "cell_type": "code",
   "execution_count": 43,
   "id": "5ceca693",
   "metadata": {},
   "outputs": [],
   "source": [
    "import seaborn as sns\n",
    "import matplotlib.pyplot as plt"
   ]
  },
  {
   "cell_type": "code",
   "execution_count": 44,
   "id": "eab5242b",
   "metadata": {},
   "outputs": [],
   "source": [
    "def count_tables(i):\n",
    "    sns.countplot(i)\n",
    "    plt.show()\n"
   ]
  },
  {
   "cell_type": "code",
   "execution_count": 45,
   "id": "b2b4358b",
   "metadata": {},
   "outputs": [
    {
     "name": "stderr",
     "output_type": "stream",
     "text": [
      "C:\\ProgramData\\Anaconda3\\lib\\site-packages\\seaborn\\_decorators.py:36: FutureWarning: Pass the following variable as a keyword arg: x. From version 0.12, the only valid positional argument will be `data`, and passing other arguments without an explicit keyword will result in an error or misinterpretation.\n",
      "  warnings.warn(\n"
     ]
    },
    {
     "data": {
      "image/png": "[encoded data removed]",
      "text/plain": [
       "<Figure size 640x480 with 1 Axes>"
      ]
     },
     "metadata": {},
     "output_type": "display_data"
    },
    {
     "name": "stderr",
     "output_type": "stream",
     "text": [
      "C:\\ProgramData\\Anaconda3\\lib\\site-packages\\seaborn\\_decorators.py:36: FutureWarning: Pass the following variable as a keyword arg: x. From version 0.12, the only valid positional argument will be `data`, and passing other arguments without an explicit keyword will result in an error or misinterpretation.\n",
      "  warnings.warn(\n"
     ]
    },
    {
     "data": {
      "image/png": "[encoded data removed]",
      "text/plain": [
       "<Figure size 640x480 with 1 Axes>"
      ]
     },
     "metadata": {},
     "output_type": "display_data"
    },
    {
     "name": "stderr",
     "output_type": "stream",
     "text": [
      "C:\\ProgramData\\Anaconda3\\lib\\site-packages\\seaborn\\_decorators.py:36: FutureWarning: Pass the following variable as a keyword arg: x. From version 0.12, the only valid positional argument will be `data`, and passing other arguments without an explicit keyword will result in an error or misinterpretation.\n",
      "  warnings.warn(\n"
     ]
    },
    {
     "data": {
      "image/png": "[encoded data removed]",
      "text/plain": [
       "<Figure size 640x480 with 1 Axes>"
      ]
     },
     "metadata": {},
     "output_type": "display_data"
    },
    {
     "name": "stderr",
     "output_type": "stream",
     "text": [
      "C:\\ProgramData\\Anaconda3\\lib\\site-packages\\seaborn\\_decorators.py:36: FutureWarning: Pass the following variable as a keyword arg: x. From version 0.12, the only valid positional argument will be `data`, and passing other arguments without an explicit keyword will result in an error or misinterpretation.\n",
      "  warnings.warn(\n"
     ]
    },
    {
     "data": {
      "image/png": "[encoded data removed]",
      "text/plain": [
       "<Figure size 640x480 with 1 Axes>"
      ]
     },
     "metadata": {},
     "output_type": "display_data"
    },
    {
     "name": "stderr",
     "output_type": "stream",
     "text": [
      "C:\\ProgramData\\Anaconda3\\lib\\site-packages\\seaborn\\_decorators.py:36: FutureWarning: Pass the following variable as a keyword arg: x. From version 0.12, the only valid positional argument will be `data`, and passing other arguments without an explicit keyword will result in an error or misinterpretation.\n",
      "  warnings.warn(\n"
     ]
    },
    {
     "data": {
      "image/png": "[encoded data removed]",
      "text/plain": [
       "<Figure size 640x480 with 1 Axes>"
      ]
     },
     "metadata": {},
     "output_type": "display_data"
    },
    {
     "name": "stderr",
     "output_type": "stream",
     "text": [
      "C:\\ProgramData\\Anaconda3\\lib\\site-packages\\seaborn\\_decorators.py:36: FutureWarning: Pass the following variable as a keyword arg: x. From version 0.12, the only valid positional argument will be `data`, and passing other arguments without an explicit keyword will result in an error or misinterpretation.\n",
      "  warnings.warn(\n"
     ]
    },
    {
     "data": {
      "image/png": "[encoded data removed]",
      "text/plain": [
       "<Figure size 640x480 with 1 Axes>"
      ]
     },
     "metadata": {},
     "output_type": "display_data"
    },
    {
     "data": {
      "text/plain": [
       "tran_date      None\n",
       "Store_type     None\n",
       "DOB            None\n",
       "Gender         None\n",
       "prod_cat       None\n",
       "prod_subcat    None\n",
       "dtype: object"
      ]
     },
     "execution_count": 45,
     "metadata": {},
     "output_type": "execute_result"
    }
   ],
   "source": [
    "Customer_final.select_dtypes(include='object').apply(lambda i:count_tables(i))"
   ]
  },
  {
   "cell_type": "code",
   "execution_count": 46,
   "id": "40f0ad8e",
   "metadata": {},
   "outputs": [],
   "source": [
    "import datetime"
   ]
  },
  {
   "cell_type": "code",
   "execution_count": 53,
   "id": "6be1f1ea",
   "metadata": {},
   "outputs": [],
   "source": [
    "def Date_Time(x):\n",
    "    x=x.replace('-','/')\n",
    "    x=pd.to_datetime(x,format='%d/%m/%Y')\n",
    "    return x"
   ]
  },
  {
   "cell_type": "code",
   "execution_count": 55,
   "id": "f048d837",
   "metadata": {},
   "outputs": [],
   "source": [
    "Customer_final.tran_date=Customer_final.tran_date.apply(lambda x : Date_Time(x))"
   ]
  },
  {
   "cell_type": "code",
   "execution_count": 50,
   "id": "51339250",
   "metadata": {},
   "outputs": [],
   "source": [
    "Customer_final.DOB=pd.to_datetime(Customer_final.DOB,format=\"%d-%m-%Y\")"
   ]
  },
  {
   "cell_type": "code",
   "execution_count": 56,
   "id": "831891df",
   "metadata": {},
   "outputs": [
    {
     "name": "stdout",
     "output_type": "stream",
     "text": [
      "<class 'pandas.core.frame.DataFrame'>\n",
      "Int64Index: 23053 entries, 0 to 23052\n",
      "Data columns (total 17 columns):\n",
      " #   Column             Non-Null Count  Dtype         \n",
      "---  ------             --------------  -----         \n",
      " 0   transaction_id     23053 non-null  int64         \n",
      " 1   cust_id            23053 non-null  int64         \n",
      " 2   tran_date          23053 non-null  datetime64[ns]\n",
      " 3   prod_subcat_code   23053 non-null  int64         \n",
      " 4   prod_cat_code      23053 non-null  int64         \n",
      " 5   Qty                23053 non-null  int64         \n",
      " 6   Rate               23053 non-null  int64         \n",
      " 7   Tax                23053 non-null  float64       \n",
      " 8   total_amt          23053 non-null  float64       \n",
      " 9   Store_type         23053 non-null  object        \n",
      " 10  customer_Id        23053 non-null  int64         \n",
      " 11  DOB                23053 non-null  datetime64[ns]\n",
      " 12  Gender             23044 non-null  object        \n",
      " 13  city_code          23045 non-null  float64       \n",
      " 14  prod_cat           23053 non-null  object        \n",
      " 15  prod_sub_cat_code  23053 non-null  int64         \n",
      " 16  prod_subcat        23053 non-null  object        \n",
      "dtypes: datetime64[ns](2), float64(3), int64(8), object(4)\n",
      "memory usage: 3.2+ MB\n"
     ]
    }
   ],
   "source": [
    "Customer_final.info()"
   ]
  },
  {
   "cell_type": "code",
   "execution_count": 68,
   "id": "7a4c2d80",
   "metadata": {},
   "outputs": [],
   "source": [
    "def hist_plot(x):\n",
    "    x.plot(kind='hist')\n",
    "    plt.show()\n",
    "    plt.title(label=x.name)\n",
    "   "
   ]
  },
  {
   "cell_type": "code",
   "execution_count": 69,
   "id": "5af94405",
   "metadata": {},
   "outputs": [
    {
     "data": {
      "image/png": "[encoded data removed]",
      "text/plain": [
       "<Figure size 640x480 with 1 Axes>"
      ]
     },
     "metadata": {},
     "output_type": "display_data"
    },
    {
     "data": {
      "image/png": "[encoded data removed]",
      "text/plain": [
       "<Figure size 640x480 with 1 Axes>"
      ]
     },
     "metadata": {},
     "output_type": "display_data"
    },
    {
     "data": {
      "image/png": "[encoded data removed]",
      "text/plain": [
       "<Figure size 640x480 with 1 Axes>"
      ]
     },
     "metadata": {},
     "output_type": "display_data"
    },
    {
     "data": {
      "image/png": "[encoded data removed]",
      "text/plain": [
       "<Figure size 640x480 with 1 Axes>"
      ]
     },
     "metadata": {},
     "output_type": "display_data"
    },
    {
     "data": {
      "image/png": "[encoded data removed]",
      "text/plain": [
       "<Figure size 640x480 with 1 Axes>"
      ]
     },
     "metadata": {},
     "output_type": "display_data"
    },
    {
     "data": {
      "image/png": "[encoded data removed]",
      "text/plain": [
       "<Figure size 640x480 with 1 Axes>"
      ]
     },
     "metadata": {},
     "output_type": "display_data"
    },
    {
     "data": {
      "image/png": "[encoded data removed]",
      "text/plain": [
       "<Figure size 640x480 with 1 Axes>"
      ]
     },
     "metadata": {},
     "output_type": "display_data"
    },
    {
     "data": {
      "image/png": "[encoded data removed]",
      "text/plain": [
       "<Figure size 640x480 with 1 Axes>"
      ]
     },
     "metadata": {},
     "output_type": "display_data"
    },
    {
     "data": {
      "image/png": "[encoded data removed]",
      "text/plain": [
       "<Figure size 640x480 with 1 Axes>"
      ]
     },
     "metadata": {},
     "output_type": "display_data"
    },
    {
     "data": {
      "image/png": "[encoded data removed]",
      "text/plain": [
       "<Figure size 640x480 with 1 Axes>"
      ]
     },
     "metadata": {},
     "output_type": "display_data"
    },
    {
     "data": {
      "image/png": "[encoded data removed]",
      "text/plain": [
       "<Figure size 640x480 with 1 Axes>"
      ]
     },
     "metadata": {},
     "output_type": "display_data"
    },
    {
     "data": {
      "text/plain": [
       "transaction_id       None\n",
       "cust_id              None\n",
       "prod_subcat_code     None\n",
       "prod_cat_code        None\n",
       "Qty                  None\n",
       "Rate                 None\n",
       "Tax                  None\n",
       "total_amt            None\n",
       "customer_Id          None\n",
       "city_code            None\n",
       "prod_sub_cat_code    None\n",
       "dtype: object"
      ]
     },
     "execution_count": 69,
     "metadata": {},
     "output_type": "execute_result"
    },
    {
     "data": {
      "image/png": "[encoded data removed]",
      "text/plain": [
       "<Figure size 640x480 with 1 Axes>"
      ]
     },
     "metadata": {},
     "output_type": "display_data"
    }
   ],
   "source": [
    "Customer_final.select_dtypes(include=['float64','int64']).apply(lambda x: hist_plot(x))"
   ]
  },
  {
   "cell_type": "code",
   "execution_count": 71,
   "id": "8753cccf",
   "metadata": {},
   "outputs": [],
   "source": [
    "Max_date=Customer_final.tran_date.max()\n",
    "Min_date=Customer_final.tran_date.min()"
   ]
  },
  {
   "cell_type": "code",
   "execution_count": 72,
   "id": "c71b2b18",
   "metadata": {},
   "outputs": [
    {
     "data": {
      "text/plain": [
       "Timedelta('1130 days 00:00:00')"
      ]
     },
     "execution_count": 72,
     "metadata": {},
     "output_type": "execute_result"
    }
   ],
   "source": [
    "Max_date-Min_date"
   ]
  },
  {
   "cell_type": "code",
   "execution_count": 73,
   "id": "b67c8a51",
   "metadata": {},
   "outputs": [
    {
     "data": {
      "text/plain": [
       "1130"
      ]
     },
     "execution_count": 73,
     "metadata": {},
     "output_type": "execute_result"
    }
   ],
   "source": [
    "(Max_date-Min_date).days"
   ]
  },
  {
   "cell_type": "code",
   "execution_count": 81,
   "id": "cdc5d2da",
   "metadata": {},
   "outputs": [
    {
     "data": {
      "text/plain": [
       "2177"
      ]
     },
     "execution_count": 81,
     "metadata": {},
     "output_type": "execute_result"
    }
   ],
   "source": [
    "Customer_final.loc[Customer_final.total_amt<0,'total_amt'].count()"
   ]
  },
  {
   "cell_type": "code",
   "execution_count": 98,
   "id": "ce82e686",
   "metadata": {},
   "outputs": [
    {
     "data": {
      "text/html": [
       "<div>\n",
       "<style scoped>\n",
       "    .dataframe tbody tr th:only-of-type {\n",
       "        vertical-align: middle;\n",
       "    }\n",
       "\n",
       "    .dataframe tbody tr th {\n",
       "        vertical-align: top;\n",
       "    }\n",
       "\n",
       "    .dataframe thead th {\n",
       "        text-align: right;\n",
       "    }\n",
       "</style>\n",
       "<table border=\"1\" class=\"dataframe\">\n",
       "  <thead>\n",
       "    <tr style=\"text-align: right;\">\n",
       "      <th></th>\n",
       "      <th></th>\n",
       "      <th>Gender</th>\n",
       "    </tr>\n",
       "    <tr>\n",
       "      <th>prod_cat</th>\n",
       "      <th>Gender</th>\n",
       "      <th></th>\n",
       "    </tr>\n",
       "  </thead>\n",
       "  <tbody>\n",
       "    <tr>\n",
       "      <th rowspan=\"2\" valign=\"top\">Bags</th>\n",
       "      <th>F</th>\n",
       "      <td>994</td>\n",
       "    </tr>\n",
       "    <tr>\n",
       "      <th>M</th>\n",
       "      <td>1004</td>\n",
       "    </tr>\n",
       "    <tr>\n",
       "      <th rowspan=\"2\" valign=\"top\">Books</th>\n",
       "      <th>F</th>\n",
       "      <td>2949</td>\n",
       "    </tr>\n",
       "    <tr>\n",
       "      <th>M</th>\n",
       "      <td>3116</td>\n",
       "    </tr>\n",
       "    <tr>\n",
       "      <th rowspan=\"2\" valign=\"top\">Clothing</th>\n",
       "      <th>F</th>\n",
       "      <td>1439</td>\n",
       "    </tr>\n",
       "    <tr>\n",
       "      <th>M</th>\n",
       "      <td>1518</td>\n",
       "    </tr>\n",
       "    <tr>\n",
       "      <th rowspan=\"2\" valign=\"top\">Electronics</th>\n",
       "      <th>F</th>\n",
       "      <td>2328</td>\n",
       "    </tr>\n",
       "    <tr>\n",
       "      <th>M</th>\n",
       "      <td>2570</td>\n",
       "    </tr>\n",
       "    <tr>\n",
       "      <th rowspan=\"2\" valign=\"top\">Footwear</th>\n",
       "      <th>F</th>\n",
       "      <td>1529</td>\n",
       "    </tr>\n",
       "    <tr>\n",
       "      <th>M</th>\n",
       "      <td>1469</td>\n",
       "    </tr>\n",
       "    <tr>\n",
       "      <th rowspan=\"2\" valign=\"top\">Home and kitchen</th>\n",
       "      <th>F</th>\n",
       "      <td>1994</td>\n",
       "    </tr>\n",
       "    <tr>\n",
       "      <th>M</th>\n",
       "      <td>2134</td>\n",
       "    </tr>\n",
       "  </tbody>\n",
       "</table>\n",
       "</div>"
      ],
      "text/plain": [
       "                         Gender\n",
       "prod_cat         Gender        \n",
       "Bags             F          994\n",
       "                 M         1004\n",
       "Books            F         2949\n",
       "                 M         3116\n",
       "Clothing         F         1439\n",
       "                 M         1518\n",
       "Electronics      F         2328\n",
       "                 M         2570\n",
       "Footwear         F         1529\n",
       "                 M         1469\n",
       "Home and kitchen F         1994\n",
       "                 M         2134"
      ]
     },
     "execution_count": 98,
     "metadata": {},
     "output_type": "execute_result"
    }
   ],
   "source": [
    "Customer_final.groupby(['prod_cat', 'Gender']).agg({'Gender':'count'})"
   ]
  },
  {
   "cell_type": "code",
   "execution_count": 116,
   "id": "2aa8fa2f",
   "metadata": {},
   "outputs": [
    {
     "data": {
      "text/plain": [
       "customer_Id    2422\n",
       "dtype: int64"
      ]
     },
     "execution_count": 116,
     "metadata": {},
     "output_type": "execute_result"
    }
   ],
   "source": [
    "High_cust=Customer_final.groupby('city_code').agg({'customer_Id': 'count'}).sort_values(by='customer_Id',ascending=False).max()\n",
    "High_cust"
   ]
  },
  {
   "cell_type": "code",
   "execution_count": 121,
   "id": "b53a2ab4",
   "metadata": {},
   "outputs": [],
   "source": [
    "Div=Customer_final.groupby('city_code').agg({'customer_Id': 'count'}).sort_values(by='customer_Id').sum()"
   ]
  },
  {
   "cell_type": "code",
   "execution_count": 141,
   "id": "5b88812f",
   "metadata": {},
   "outputs": [
    {
     "data": {
      "text/plain": [
       "customer_Id    10.509872\n",
       "dtype: float64"
      ]
     },
     "execution_count": 141,
     "metadata": {},
     "output_type": "execute_result"
    }
   ],
   "source": [
    "High_cust/Div*100"
   ]
  },
  {
   "cell_type": "code",
   "execution_count": 124,
   "id": "921007ad",
   "metadata": {},
   "outputs": [],
   "source": [
    "City_cust=Customer_final.groupby('city_code').agg({'customer_Id': 'count'}).sort_values(by='customer_Id',ascending=False).head(1)"
   ]
  },
  {
   "cell_type": "code",
   "execution_count": 139,
   "id": "d79720c2",
   "metadata": {},
   "outputs": [],
   "source": [
    "City_cust['Customer Percentage']= (High_cust/Div)*100"
   ]
  },
  {
   "cell_type": "code",
   "execution_count": 158,
   "id": "31332b64",
   "metadata": {
    "scrolled": true
   },
   "outputs": [
    {
     "data": {
      "text/html": [
       "<div>\n",
       "<style scoped>\n",
       "    .dataframe tbody tr th:only-of-type {\n",
       "        vertical-align: middle;\n",
       "    }\n",
       "\n",
       "    .dataframe tbody tr th {\n",
       "        vertical-align: top;\n",
       "    }\n",
       "\n",
       "    .dataframe thead th {\n",
       "        text-align: right;\n",
       "    }\n",
       "</style>\n",
       "<table border=\"1\" class=\"dataframe\">\n",
       "  <thead>\n",
       "    <tr style=\"text-align: right;\">\n",
       "      <th></th>\n",
       "      <th>Qty</th>\n",
       "      <th>total_amt</th>\n",
       "    </tr>\n",
       "    <tr>\n",
       "      <th>Store_type</th>\n",
       "      <th></th>\n",
       "      <th></th>\n",
       "    </tr>\n",
       "  </thead>\n",
       "  <tbody>\n",
       "    <tr>\n",
       "      <th>e-Shop</th>\n",
       "      <td>22763</td>\n",
       "      <td>19824816.05</td>\n",
       "    </tr>\n",
       "  </tbody>\n",
       "</table>\n",
       "</div>"
      ],
      "text/plain": [
       "              Qty    total_amt\n",
       "Store_type                    \n",
       "e-Shop      22763  19824816.05"
      ]
     },
     "execution_count": 158,
     "metadata": {},
     "output_type": "execute_result"
    }
   ],
   "source": [
    "Customer_final.groupby(by='Store_type').agg({'Qty': 'sum','total_amt':'sum'}).round(2).sort_values(by=['Qty','total_amt'],ascending=False).head(1)"
   ]
  },
  {
   "cell_type": "code",
   "execution_count": 174,
   "id": "de5ace96",
   "metadata": {},
   "outputs": [],
   "source": [
    "Category=Customer_final.loc[((Customer_final.Store_type=='Flagship store') & ((Customer_final.prod_cat == 'Electronics') | (Customer_final.prod_cat == 'Clothing')))]\n"
   ]
  },
  {
   "cell_type": "code",
   "execution_count": 175,
   "id": "a0b4d1af",
   "metadata": {},
   "outputs": [
    {
     "data": {
      "text/html": [
       "<div>\n",
       "<style scoped>\n",
       "    .dataframe tbody tr th:only-of-type {\n",
       "        vertical-align: middle;\n",
       "    }\n",
       "\n",
       "    .dataframe tbody tr th {\n",
       "        vertical-align: top;\n",
       "    }\n",
       "\n",
       "    .dataframe thead th {\n",
       "        text-align: right;\n",
       "    }\n",
       "</style>\n",
       "<table border=\"1\" class=\"dataframe\">\n",
       "  <thead>\n",
       "    <tr style=\"text-align: right;\">\n",
       "      <th></th>\n",
       "      <th>total_amt</th>\n",
       "    </tr>\n",
       "    <tr>\n",
       "      <th>Store_type</th>\n",
       "      <th></th>\n",
       "    </tr>\n",
       "  </thead>\n",
       "  <tbody>\n",
       "    <tr>\n",
       "      <th>Flagship store</th>\n",
       "      <td>3409559.27</td>\n",
       "    </tr>\n",
       "  </tbody>\n",
       "</table>\n",
       "</div>"
      ],
      "text/plain": [
       "                 total_amt\n",
       "Store_type                \n",
       "Flagship store  3409559.27"
      ]
     },
     "execution_count": 175,
     "metadata": {},
     "output_type": "execute_result"
    }
   ],
   "source": [
    "Category.groupby(by='Store_type').agg({'total_amt': 'sum'})"
   ]
  },
  {
   "cell_type": "code",
   "execution_count": 178,
   "id": "081f7113",
   "metadata": {},
   "outputs": [],
   "source": [
    "Total_Amt_male=Customer_final.loc[(Customer_final.Gender=='M') & (Customer_final.prod_cat=='Electronics')].agg({'total_amt': 'sum'})"
   ]
  },
  {
   "cell_type": "code",
   "execution_count": 179,
   "id": "df63a9ca",
   "metadata": {},
   "outputs": [
    {
     "data": {
      "text/plain": [
       "total_amt    5703109.425\n",
       "dtype: float64"
      ]
     },
     "execution_count": 179,
     "metadata": {},
     "output_type": "execute_result"
    }
   ],
   "source": [
    "Total_Amt_male"
   ]
  },
  {
   "cell_type": "code",
   "execution_count": 184,
   "id": "935a6f0e",
   "metadata": {},
   "outputs": [],
   "source": [
    "Unique_cust=Customer_final.loc[ Customer_final.total_amt>0].groupby(by='cust_id').agg({'cust_id':'count'})"
   ]
  },
  {
   "cell_type": "code",
   "execution_count": 185,
   "id": "5c3377e0",
   "metadata": {},
   "outputs": [
    {
     "data": {
      "text/html": [
       "<div>\n",
       "<style scoped>\n",
       "    .dataframe tbody tr th:only-of-type {\n",
       "        vertical-align: middle;\n",
       "    }\n",
       "\n",
       "    .dataframe tbody tr th {\n",
       "        vertical-align: top;\n",
       "    }\n",
       "\n",
       "    .dataframe thead th {\n",
       "        text-align: right;\n",
       "    }\n",
       "</style>\n",
       "<table border=\"1\" class=\"dataframe\">\n",
       "  <thead>\n",
       "    <tr style=\"text-align: right;\">\n",
       "      <th></th>\n",
       "      <th>cust_id</th>\n",
       "    </tr>\n",
       "    <tr>\n",
       "      <th>cust_id</th>\n",
       "      <th></th>\n",
       "    </tr>\n",
       "  </thead>\n",
       "  <tbody>\n",
       "    <tr>\n",
       "      <th>266794</th>\n",
       "      <td>11</td>\n",
       "    </tr>\n",
       "    <tr>\n",
       "      <th>270535</th>\n",
       "      <td>11</td>\n",
       "    </tr>\n",
       "    <tr>\n",
       "      <th>270803</th>\n",
       "      <td>11</td>\n",
       "    </tr>\n",
       "    <tr>\n",
       "      <th>272741</th>\n",
       "      <td>11</td>\n",
       "    </tr>\n",
       "    <tr>\n",
       "      <th>273014</th>\n",
       "      <td>11</td>\n",
       "    </tr>\n",
       "    <tr>\n",
       "      <th>274227</th>\n",
       "      <td>11</td>\n",
       "    </tr>\n",
       "  </tbody>\n",
       "</table>\n",
       "</div>"
      ],
      "text/plain": [
       "         cust_id\n",
       "cust_id         \n",
       "266794        11\n",
       "270535        11\n",
       "270803        11\n",
       "272741        11\n",
       "273014        11\n",
       "274227        11"
      ]
     },
     "execution_count": 185,
     "metadata": {},
     "output_type": "execute_result"
    }
   ],
   "source": [
    "Unique_cust.loc[Unique_cust.cust_id>10]"
   ]
  },
  {
   "cell_type": "code",
   "execution_count": 196,
   "id": "2bdd483a",
   "metadata": {},
   "outputs": [
    {
     "data": {
      "text/plain": [
       "0        41.438356\n",
       "1        49.821918\n",
       "2        30.597260\n",
       "3        41.739726\n",
       "4        30.597260\n",
       "           ...    \n",
       "23048    51.041096\n",
       "23049    38.852055\n",
       "23050    46.709589\n",
       "23051    52.794521\n",
       "23052    41.134247\n",
       "Name: Age, Length: 23053, dtype: float64"
      ]
     },
     "execution_count": 196,
     "metadata": {},
     "output_type": "execute_result"
    }
   ],
   "source": [
    "Customer_final['Age']=((datetime.datetime.now()-Customer_final.DOB).dt.days)/365\n",
    "Customer_final['Age']"
   ]
  },
  {
   "cell_type": "code",
   "execution_count": 216,
   "id": "6f4cb0b1",
   "metadata": {},
   "outputs": [
    {
     "data": {
      "text/html": [
       "<div>\n",
       "<style scoped>\n",
       "    .dataframe tbody tr th:only-of-type {\n",
       "        vertical-align: middle;\n",
       "    }\n",
       "\n",
       "    .dataframe tbody tr th {\n",
       "        vertical-align: top;\n",
       "    }\n",
       "\n",
       "    .dataframe thead th {\n",
       "        text-align: right;\n",
       "    }\n",
       "</style>\n",
       "<table border=\"1\" class=\"dataframe\">\n",
       "  <thead>\n",
       "    <tr style=\"text-align: right;\">\n",
       "      <th></th>\n",
       "      <th>transaction_id</th>\n",
       "      <th>cust_id</th>\n",
       "      <th>tran_date</th>\n",
       "      <th>prod_subcat_code</th>\n",
       "      <th>prod_cat_code</th>\n",
       "      <th>Qty</th>\n",
       "      <th>Rate</th>\n",
       "      <th>Tax</th>\n",
       "      <th>total_amt</th>\n",
       "      <th>Store_type</th>\n",
       "      <th>customer_Id</th>\n",
       "      <th>DOB</th>\n",
       "      <th>Gender</th>\n",
       "      <th>city_code</th>\n",
       "      <th>prod_cat</th>\n",
       "      <th>prod_sub_cat_code</th>\n",
       "      <th>prod_subcat</th>\n",
       "      <th>Age</th>\n",
       "    </tr>\n",
       "  </thead>\n",
       "  <tbody>\n",
       "    <tr>\n",
       "      <th>2</th>\n",
       "      <td>51750724947</td>\n",
       "      <td>273420</td>\n",
       "      <td>2014-02-24</td>\n",
       "      <td>6</td>\n",
       "      <td>5</td>\n",
       "      <td>-2</td>\n",
       "      <td>-791</td>\n",
       "      <td>166.110</td>\n",
       "      <td>-1748.110</td>\n",
       "      <td>TeleShop</td>\n",
       "      <td>273420</td>\n",
       "      <td>1992-07-27</td>\n",
       "      <td>M</td>\n",
       "      <td>8.0</td>\n",
       "      <td>Books</td>\n",
       "      <td>6</td>\n",
       "      <td>DIY</td>\n",
       "      <td>30.597260</td>\n",
       "    </tr>\n",
       "    <tr>\n",
       "      <th>4</th>\n",
       "      <td>51750724947</td>\n",
       "      <td>273420</td>\n",
       "      <td>2014-02-23</td>\n",
       "      <td>6</td>\n",
       "      <td>5</td>\n",
       "      <td>-2</td>\n",
       "      <td>-791</td>\n",
       "      <td>166.110</td>\n",
       "      <td>-1748.110</td>\n",
       "      <td>TeleShop</td>\n",
       "      <td>273420</td>\n",
       "      <td>1992-07-27</td>\n",
       "      <td>M</td>\n",
       "      <td>8.0</td>\n",
       "      <td>Books</td>\n",
       "      <td>6</td>\n",
       "      <td>DIY</td>\n",
       "      <td>30.597260</td>\n",
       "    </tr>\n",
       "    <tr>\n",
       "      <th>23</th>\n",
       "      <td>91116291703</td>\n",
       "      <td>268509</td>\n",
       "      <td>2014-02-20</td>\n",
       "      <td>1</td>\n",
       "      <td>2</td>\n",
       "      <td>4</td>\n",
       "      <td>1243</td>\n",
       "      <td>522.060</td>\n",
       "      <td>5494.060</td>\n",
       "      <td>MBR</td>\n",
       "      <td>268509</td>\n",
       "      <td>1989-08-17</td>\n",
       "      <td>M</td>\n",
       "      <td>10.0</td>\n",
       "      <td>Footwear</td>\n",
       "      <td>1</td>\n",
       "      <td>Mens</td>\n",
       "      <td>33.542466</td>\n",
       "    </tr>\n",
       "    <tr>\n",
       "      <th>28</th>\n",
       "      <td>88853694830</td>\n",
       "      <td>268444</td>\n",
       "      <td>2014-02-20</td>\n",
       "      <td>4</td>\n",
       "      <td>4</td>\n",
       "      <td>-3</td>\n",
       "      <td>-80</td>\n",
       "      <td>25.200</td>\n",
       "      <td>-265.200</td>\n",
       "      <td>MBR</td>\n",
       "      <td>268444</td>\n",
       "      <td>1992-01-02</td>\n",
       "      <td>F</td>\n",
       "      <td>6.0</td>\n",
       "      <td>Bags</td>\n",
       "      <td>4</td>\n",
       "      <td>Women</td>\n",
       "      <td>31.164384</td>\n",
       "    </tr>\n",
       "    <tr>\n",
       "      <th>37</th>\n",
       "      <td>31384765864</td>\n",
       "      <td>267058</td>\n",
       "      <td>2014-02-19</td>\n",
       "      <td>3</td>\n",
       "      <td>2</td>\n",
       "      <td>1</td>\n",
       "      <td>793</td>\n",
       "      <td>83.265</td>\n",
       "      <td>876.265</td>\n",
       "      <td>e-Shop</td>\n",
       "      <td>267058</td>\n",
       "      <td>1992-02-06</td>\n",
       "      <td>F</td>\n",
       "      <td>10.0</td>\n",
       "      <td>Footwear</td>\n",
       "      <td>3</td>\n",
       "      <td>Women</td>\n",
       "      <td>31.068493</td>\n",
       "    </tr>\n",
       "    <tr>\n",
       "      <th>...</th>\n",
       "      <td>...</td>\n",
       "      <td>...</td>\n",
       "      <td>...</td>\n",
       "      <td>...</td>\n",
       "      <td>...</td>\n",
       "      <td>...</td>\n",
       "      <td>...</td>\n",
       "      <td>...</td>\n",
       "      <td>...</td>\n",
       "      <td>...</td>\n",
       "      <td>...</td>\n",
       "      <td>...</td>\n",
       "      <td>...</td>\n",
       "      <td>...</td>\n",
       "      <td>...</td>\n",
       "      <td>...</td>\n",
       "      <td>...</td>\n",
       "      <td>...</td>\n",
       "    </tr>\n",
       "    <tr>\n",
       "      <th>23033</th>\n",
       "      <td>32887353269</td>\n",
       "      <td>268885</td>\n",
       "      <td>2011-01-25</td>\n",
       "      <td>3</td>\n",
       "      <td>1</td>\n",
       "      <td>1</td>\n",
       "      <td>276</td>\n",
       "      <td>28.980</td>\n",
       "      <td>304.980</td>\n",
       "      <td>Flagship store</td>\n",
       "      <td>268885</td>\n",
       "      <td>1989-04-14</td>\n",
       "      <td>F</td>\n",
       "      <td>6.0</td>\n",
       "      <td>Clothing</td>\n",
       "      <td>3</td>\n",
       "      <td>Kids</td>\n",
       "      <td>33.884932</td>\n",
       "    </tr>\n",
       "    <tr>\n",
       "      <th>23034</th>\n",
       "      <td>28972634039</td>\n",
       "      <td>275227</td>\n",
       "      <td>2011-01-25</td>\n",
       "      <td>9</td>\n",
       "      <td>3</td>\n",
       "      <td>1</td>\n",
       "      <td>334</td>\n",
       "      <td>35.070</td>\n",
       "      <td>369.070</td>\n",
       "      <td>MBR</td>\n",
       "      <td>275227</td>\n",
       "      <td>1989-09-23</td>\n",
       "      <td>M</td>\n",
       "      <td>4.0</td>\n",
       "      <td>Electronics</td>\n",
       "      <td>9</td>\n",
       "      <td>Cameras</td>\n",
       "      <td>33.441096</td>\n",
       "    </tr>\n",
       "    <tr>\n",
       "      <th>23035</th>\n",
       "      <td>42161597232</td>\n",
       "      <td>267094</td>\n",
       "      <td>2011-01-25</td>\n",
       "      <td>3</td>\n",
       "      <td>1</td>\n",
       "      <td>3</td>\n",
       "      <td>147</td>\n",
       "      <td>46.305</td>\n",
       "      <td>487.305</td>\n",
       "      <td>MBR</td>\n",
       "      <td>267094</td>\n",
       "      <td>1992-11-24</td>\n",
       "      <td>M</td>\n",
       "      <td>9.0</td>\n",
       "      <td>Clothing</td>\n",
       "      <td>3</td>\n",
       "      <td>Kids</td>\n",
       "      <td>30.268493</td>\n",
       "    </tr>\n",
       "    <tr>\n",
       "      <th>23038</th>\n",
       "      <td>61812307223</td>\n",
       "      <td>274306</td>\n",
       "      <td>2011-01-25</td>\n",
       "      <td>4</td>\n",
       "      <td>4</td>\n",
       "      <td>4</td>\n",
       "      <td>1447</td>\n",
       "      <td>607.740</td>\n",
       "      <td>6395.740</td>\n",
       "      <td>e-Shop</td>\n",
       "      <td>274306</td>\n",
       "      <td>1989-01-12</td>\n",
       "      <td>M</td>\n",
       "      <td>2.0</td>\n",
       "      <td>Bags</td>\n",
       "      <td>4</td>\n",
       "      <td>Women</td>\n",
       "      <td>34.136986</td>\n",
       "    </tr>\n",
       "    <tr>\n",
       "      <th>23044</th>\n",
       "      <td>14787475597</td>\n",
       "      <td>273982</td>\n",
       "      <td>2011-01-25</td>\n",
       "      <td>4</td>\n",
       "      <td>3</td>\n",
       "      <td>5</td>\n",
       "      <td>969</td>\n",
       "      <td>508.725</td>\n",
       "      <td>5353.725</td>\n",
       "      <td>e-Shop</td>\n",
       "      <td>273982</td>\n",
       "      <td>1991-10-12</td>\n",
       "      <td>M</td>\n",
       "      <td>4.0</td>\n",
       "      <td>Electronics</td>\n",
       "      <td>4</td>\n",
       "      <td>Mobiles</td>\n",
       "      <td>31.389041</td>\n",
       "    </tr>\n",
       "  </tbody>\n",
       "</table>\n",
       "<p>4894 rows × 18 columns</p>\n",
       "</div>"
      ],
      "text/plain": [
       "       transaction_id  cust_id  tran_date  prod_subcat_code  prod_cat_code  \\\n",
       "2         51750724947   273420 2014-02-24                 6              5   \n",
       "4         51750724947   273420 2014-02-23                 6              5   \n",
       "23        91116291703   268509 2014-02-20                 1              2   \n",
       "28        88853694830   268444 2014-02-20                 4              4   \n",
       "37        31384765864   267058 2014-02-19                 3              2   \n",
       "...               ...      ...        ...               ...            ...   \n",
       "23033     32887353269   268885 2011-01-25                 3              1   \n",
       "23034     28972634039   275227 2011-01-25                 9              3   \n",
       "23035     42161597232   267094 2011-01-25                 3              1   \n",
       "23038     61812307223   274306 2011-01-25                 4              4   \n",
       "23044     14787475597   273982 2011-01-25                 4              3   \n",
       "\n",
       "       Qty  Rate      Tax  total_amt      Store_type  customer_Id        DOB  \\\n",
       "2       -2  -791  166.110  -1748.110        TeleShop       273420 1992-07-27   \n",
       "4       -2  -791  166.110  -1748.110        TeleShop       273420 1992-07-27   \n",
       "23       4  1243  522.060   5494.060             MBR       268509 1989-08-17   \n",
       "28      -3   -80   25.200   -265.200             MBR       268444 1992-01-02   \n",
       "37       1   793   83.265    876.265          e-Shop       267058 1992-02-06   \n",
       "...    ...   ...      ...        ...             ...          ...        ...   \n",
       "23033    1   276   28.980    304.980  Flagship store       268885 1989-04-14   \n",
       "23034    1   334   35.070    369.070             MBR       275227 1989-09-23   \n",
       "23035    3   147   46.305    487.305             MBR       267094 1992-11-24   \n",
       "23038    4  1447  607.740   6395.740          e-Shop       274306 1989-01-12   \n",
       "23044    5   969  508.725   5353.725          e-Shop       273982 1991-10-12   \n",
       "\n",
       "      Gender  city_code     prod_cat  prod_sub_cat_code prod_subcat        Age  \n",
       "2          M        8.0        Books                  6         DIY  30.597260  \n",
       "4          M        8.0        Books                  6         DIY  30.597260  \n",
       "23         M       10.0     Footwear                  1        Mens  33.542466  \n",
       "28         F        6.0         Bags                  4       Women  31.164384  \n",
       "37         F       10.0     Footwear                  3       Women  31.068493  \n",
       "...      ...        ...          ...                ...         ...        ...  \n",
       "23033      F        6.0     Clothing                  3        Kids  33.884932  \n",
       "23034      M        4.0  Electronics                  9     Cameras  33.441096  \n",
       "23035      M        9.0     Clothing                  3        Kids  30.268493  \n",
       "23038      M        2.0         Bags                  4       Women  34.136986  \n",
       "23044      M        4.0  Electronics                  4     Mobiles  31.389041  \n",
       "\n",
       "[4894 rows x 18 columns]"
      ]
     },
     "execution_count": 216,
     "metadata": {},
     "output_type": "execute_result"
    }
   ],
   "source": [
    "Cust_Age_filter=Customer_final.loc[(Customer_final.Age<=35) &(Customer_final.Age>=25)]\n",
    "Cust_Age_filter"
   ]
  },
  {
   "cell_type": "code",
   "execution_count": 217,
   "id": "34111eaa",
   "metadata": {},
   "outputs": [],
   "source": [
    "Total_Amount=Cust_Age_filter.loc[(Cust_Age_filter.prod_cat == 'Electronics') | (Cust_Age_filter.prod_cat == 'Books')]"
   ]
  },
  {
   "cell_type": "code",
   "execution_count": 218,
   "id": "8e06d699",
   "metadata": {},
   "outputs": [
    {
     "data": {
      "text/plain": [
       "prod_cat\n",
       "Books          2576895.360\n",
       "Electronics    2214025.515\n",
       "Name: total_amt, dtype: float64"
      ]
     },
     "execution_count": 218,
     "metadata": {},
     "output_type": "execute_result"
    }
   ],
   "source": [
    "Total_Amount.groupby('prod_cat').total_amt.sum()"
   ]
  },
  {
   "cell_type": "code",
   "execution_count": 224,
   "id": "ba166071",
   "metadata": {},
   "outputs": [
    {
     "data": {
      "text/plain": [
       "517870.405"
      ]
     },
     "execution_count": 224,
     "metadata": {},
     "output_type": "execute_result"
    }
   ],
   "source": [
    "Cust_Age_filter.loc[(Cust_Age_filter.tran_date > '2014-01-01') & (Cust_Age_filter.tran_date < '2014-03-01')].total_amt.sum()"
   ]
  },
  {
   "cell_type": "code",
   "execution_count": null,
   "id": "705b7326",
   "metadata": {},
   "outputs": [],
   "source": []
  }
 ],
 "metadata": {
  "kernelspec": {
   "display_name": "Python 3 (ipykernel)",
   "language": "python",
   "name": "python3"
  },
  "language_info": {
   "codemirror_mode": {
    "name": "ipython",
    "version": 3
   },
   "file_extension": ".py",
   "mimetype": "text/x-python",
   "name": "python",
   "nbconvert_exporter": "python",
   "pygments_lexer": "ipython3",
   "version": "3.9.13"
  }
 },
 "nbformat": 4,
 "nbformat_minor": 5
}
